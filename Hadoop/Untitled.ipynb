{
 "cells": [
  {
   "cell_type": "markdown",
   "metadata": {},
   "source": [
    "# Hadoop Platform and Application Framework"
   ]
  },
  {
   "cell_type": "markdown",
   "metadata": {},
   "source": [
    "* Instead of moving data to computation, we move computation to data\n",
    "* scalability, reliability\n",
    "* Basic models:\n",
    "    1. Hadoop Common: libraries and utilities used by other models\n",
    "    2. HDFS: store data on commodity machines, aggragate bandwith according the custer; distributed, scalable, and portable filesystem written in Java; secondary namenode snapshot the primary namenode\n",
    "    3. Hadoop YARN: resource management platform to schedule the users and applications\n",
    "    4. Hadoop MapReduce: scale data across a lot of different processes\n",
    "    "
   ]
  }
 ],
 "metadata": {
  "kernelspec": {
   "display_name": "Python 3",
   "language": "python",
   "name": "python3"
  },
  "language_info": {
   "codemirror_mode": {
    "name": "ipython",
    "version": 3
   },
   "file_extension": ".py",
   "mimetype": "text/x-python",
   "name": "python",
   "nbconvert_exporter": "python",
   "pygments_lexer": "ipython3",
   "version": "3.6.2"
  }
 },
 "nbformat": 4,
 "nbformat_minor": 2
}
