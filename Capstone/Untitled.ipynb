{
 "cells": [
  {
   "cell_type": "markdown",
   "metadata": {},
   "source": [
    "## Features of location data providers\n",
    "* rate limits (#calls/day)\n",
    "* cost\n",
    "* coverage\n",
    "* accuracy\n",
    "* update frequency\n",
    "## Varies types of clustering algorithm\n",
    "* partitioning: divides the data into non-overlapping subsets without any cluster-internal structure\n",
    "* hierarchical\n",
    "* density based"
   ]
  },
  {
   "cell_type": "markdown",
   "metadata": {},
   "source": [
    "What is interesting about the field of data science is that each project can be challenging in its unique way, so you need to learn to be agile and refine the skill to learn new libraries and tools quickly depending on the project."
   ]
  },
  {
   "cell_type": "markdown",
   "metadata": {},
   "source": [
    "## K means clustering (an iterative algorithm -> converge; heuristic algorithm -> may not global opt, depend on initial -> muiltiple random intitial centroid)\n",
    "## Use different measures to display the similarity and dissimilarity\n",
    "* Euclidean dis\n",
    "* Cosine sim\n",
    "* average dis\n",
    "## to create initial center\n",
    "* randomly choose\n",
    "* create at the center\n",
    "## distance matrix\n",
    "to find the closest centroid to each data point\n",
    "SSE = the sum of the squared differences between each point and its centroid\n",
    "new centroid = new mean of dp in the same cluster\n"
   ]
  }
 ],
 "metadata": {
  "kernelspec": {
   "display_name": "Python 3",
   "language": "python",
   "name": "python3"
  },
  "language_info": {
   "codemirror_mode": {
    "name": "ipython",
    "version": 3
   },
   "file_extension": ".py",
   "mimetype": "text/x-python",
   "name": "python",
   "nbconvert_exporter": "python",
   "pygments_lexer": "ipython3",
   "version": "3.6.2"
  }
 },
 "nbformat": 4,
 "nbformat_minor": 2
}
