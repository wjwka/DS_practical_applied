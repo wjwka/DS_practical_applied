{
 "cells": [
  {
   "cell_type": "code",
   "execution_count": 1,
   "metadata": {},
   "outputs": [
    {
     "ename": "SyntaxError",
     "evalue": "invalid syntax (<ipython-input-1-db0d97e89ebd>, line 2)",
     "output_type": "error",
     "traceback": [
      "\u001b[1;36m  File \u001b[1;32m\"<ipython-input-1-db0d97e89ebd>\"\u001b[1;36m, line \u001b[1;32m2\u001b[0m\n\u001b[1;33m    import\u001b[0m\n\u001b[1;37m          ^\u001b[0m\n\u001b[1;31mSyntaxError\u001b[0m\u001b[1;31m:\u001b[0m invalid syntax\n"
     ]
    }
   ],
   "source": [
    "# crawl zhihu zmazing comments\n",
    "import pymongo"
   ]
  },
  {
   "cell_type": "code",
   "execution_count": null,
   "metadata": {},
   "outputs": [],
   "source": [
    "def get_answers_by_page(topic_id, page_no):\n",
    "    offset = page_no * 10\n",
    "    url = <topic_url> # topic_url是这个话题对应的url\n",
    "    headers = {\n",
    "        \"User-Agent\": \"Mozilla/5.0 (Macintosh; Intel Mac OS X 10_13_6) AppleWebKit/537.36 (KHTML, like Gecko) Chrome/69.0.3497.100 Safari/537.36\",\n",
    "    }\n",
    "    r = requests.get(url, verify=False, headers=headers)\n",
    "    content = r.content.decode(\"utf-8\")\n",
    "    data = json.loads(content)\n",
    "    is_end = data[\"paging\"][\"is_end\"]\n",
    "    items = data[\"data\"]\n",
    "    client = pymongo.MongoClient()\n",
    "    db = client[\"zhihu\"]\n",
    "    if len(items) > 0:\n",
    "        db.answers.insert_many(items)\n",
    "        db.saved_topics.insert({\"topic_id\": topic_id, \"page_no\": page_no})\n",
    "    return is_end"
   ]
  }
 ],
 "metadata": {
  "kernelspec": {
   "display_name": "Python 3",
   "language": "python",
   "name": "python3"
  },
  "language_info": {
   "codemirror_mode": {
    "name": "ipython",
    "version": 3
   },
   "file_extension": ".py",
   "mimetype": "text/x-python",
   "name": "python",
   "nbconvert_exporter": "python",
   "pygments_lexer": "ipython3",
   "version": "3.6.2"
  }
 },
 "nbformat": 4,
 "nbformat_minor": 2
}
