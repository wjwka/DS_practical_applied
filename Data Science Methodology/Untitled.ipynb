{
 "cells": [
  {
   "cell_type": "markdown",
   "metadata": {},
   "source": [
    "\n",
    "## How to think like a data scientist\n",
    "### Problem, Approach, Requirements, Collection, Understanding, Preparation, Modeling, Evaluation, Deployment, Feedback\n"
   ]
  },
  {
   "cell_type": "markdown",
   "metadata": {},
   "source": [
    "### Business Understanding\n",
    "* Case Study - Identifying the business requirements\n",
    "    1. Predict CHF readmission outcome for each patient\n",
    "    2. Predict the readmission risk for each patient\n",
    "    3. Understand explicitly what combination of events led to the predicted outcome for each patient\n",
    "    4. Easy to understand and apply to new patients to predict their readmission risk\n",
    "    \n",
    "### Analytic Approach\n",
    "Goal -> Approach\n",
    "### Data Requirements\n",
    "preparation job\n",
    "format, content, representations ... suitable for the approach\n",
    "### Data Collection (DBA-ETL extract, transform, load)\n",
    "from data source (avaliable, good; unavaliable, later or can be ignored)\n",
    "assessment: content, quality, initial insights\n",
    "### Data Understanding\n",
    "descriptive statistics \n",
    "    1. Univariate statistics\n",
    "    2. Pairwise correlations\n",
    "    3. Histogram\n",
    "### Data preparation (the most time consuming stage)\n",
    "data quality\n",
    "    1. Missing, misleading, Invalidvisualization    \n",
    "interative data collection and understanding\n",
    "    1. refinement\n",
    "1. data cleansing\n",
    "2. feature engineering\n",
    "\n",
    "### Modeling and  evaluation\n",
    "1. diagnostic models \n",
    "2. statistical significance\n",
    "3. matrix and curve sssss\n"
   ]
  },
  {
   "cell_type": "markdown",
   "metadata": {},
   "source": [
    "## case study\n",
    "1. data aggregating to example level, new columns created ~~~\n",
    "2. literature review of important factors, check overlooked or missing factors\n"
   ]
  },
  {
   "cell_type": "markdown",
   "metadata": {},
   "source": [
    "### Deployment and feedback\n",
    "* ultimate test: actual, real time use in the field\n",
    "* For ethical reasons, if there won't be controlled and treatement groups, the impacts of the model will be measured by the \\** rate  before and after the deployment\n",
    "* feedback, interviews also\n",
    "* Refinement: \n",
    "    1. Initial review after the first year of implementation\n",
    "    2. Based on feedback data and knowledge gained\n",
    "    3. Participation in intervention program\n",
    "    4. Originally deferred data\n",
    "    5. Other\n",
    "    \n",
    "* Redeploy: continue modeling, deployment, feedback and refinement throughout the life of the intervention program.\n"
   ]
  },
  {
   "cell_type": "code",
   "execution_count": null,
   "metadata": {},
   "outputs": [],
   "source": []
  }
 ],
 "metadata": {
  "kernelspec": {
   "display_name": "Python 3",
   "language": "python",
   "name": "python3"
  },
  "language_info": {
   "codemirror_mode": {
    "name": "ipython",
    "version": 3
   },
   "file_extension": ".py",
   "mimetype": "text/x-python",
   "name": "python",
   "nbconvert_exporter": "python",
   "pygments_lexer": "ipython3",
   "version": "3.6.2"
  }
 },
 "nbformat": 4,
 "nbformat_minor": 2
}
